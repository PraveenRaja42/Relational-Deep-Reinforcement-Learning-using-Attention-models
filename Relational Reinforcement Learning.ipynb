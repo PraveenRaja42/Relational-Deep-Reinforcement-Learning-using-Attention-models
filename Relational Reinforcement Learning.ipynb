{
 "cells": [
  {
   "cell_type": "code",
   "execution_count": 1,
   "metadata": {},
   "outputs": [],
   "source": [
    "import numpy as np\n",
    "from matplotlib import pyplot as plt\n",
    "import torch\n",
    "from random import shuffle\n",
    "from torch import nn\n",
    "from tensorboardX import SummaryWriter\n",
    "from collections import deque\n",
    "from einops import rearrange, reduce"
   ]
  },
  {
   "cell_type": "code",
   "execution_count": 28,
   "metadata": {},
   "outputs": [
    {
     "data": {
      "text/plain": [
       "Box(210, 160, 3)"
      ]
     },
     "execution_count": 28,
     "metadata": {},
     "output_type": "execute_result"
    }
   ],
   "source": [
    "env.observation_space"
   ]
  },
  {
   "cell_type": "code",
   "execution_count": 37,
   "metadata": {},
   "outputs": [
    {
     "data": {
      "text/plain": [
       "Discrete(4)"
      ]
     },
     "execution_count": 37,
     "metadata": {},
     "output_type": "execute_result"
    }
   ],
   "source": [
    "env.action_space"
   ]
  },
  {
   "cell_type": "code",
   "execution_count": 2,
   "metadata": {},
   "outputs": [],
   "source": [
    "import gym\n",
    "\n",
    "env = gym.make(\"Breakout-v4\")\n"
   ]
  },
  {
   "cell_type": "code",
   "execution_count": 3,
   "metadata": {},
   "outputs": [],
   "source": [
    "class MultiHeadRelationalModule(torch.nn.Module):\n",
    "    def __init__(self):\n",
    "        super(MultiHeadRelationalModule, self).__init__()\n",
    "        self.conv1_ch = 16\n",
    "        self.conv2_ch = 20\n",
    "        self.conv3_ch = 24\n",
    "        self.conv4_ch = 30\n",
    "        self.H = 28\n",
    "        self.W = 26\n",
    "        self.node_size = 64\n",
    "        self.len_hid = 100\n",
    "        self.out_dim = 4\n",
    "        self.ch_in = 3\n",
    "        self.sp_coord_dim = 2\n",
    "        self.N =  176\n",
    "        self.n_heads = 3\n",
    "        \n",
    "        self.conv1 = nn.Conv2d(self.ch_in,self.conv1_ch,kernel_size=(4,4),padding=0).cuda()\n",
    "        self.pool = nn.MaxPool2d(2,2).cuda()\n",
    "        self.conv2 = nn.Conv2d(self.conv1_ch,self.conv2_ch,kernel_size=(4,4),padding=0).cuda()\n",
    "        self.conv3 = nn.Conv2d(self.conv2_ch,self.conv3_ch,kernel_size=(4,4),padding=0).cuda()\n",
    "        self.conv4 = nn.Conv2d(self.conv3_ch,self.conv4_ch,kernel_size=(4,4),padding=0).cuda()\n",
    "        \n",
    "        self.proj_shape = (self.conv4_ch+self.sp_coord_dim,self.n_heads * self.node_size)\n",
    "        self.k_proj = nn.Linear(*self.proj_shape).cuda()\n",
    "        self.q_proj = nn.Linear(*self.proj_shape).cuda()\n",
    "        self.v_proj = nn.Linear(*self.proj_shape).cuda()\n",
    "        \n",
    "        self.k_lin = nn.Linear(self.node_size,self.N).cuda()\n",
    "        self.q_lin = nn.Linear(self.node_size,self.N).cuda()\n",
    "        self.a_lin = nn.Linear(self.N,self.N).cuda()\n",
    "        \n",
    "        self.node_shape = (self.n_heads, self.N,self.node_size)\n",
    "        self.k_norm = nn.LayerNorm(self.node_shape, elementwise_affine=True).cuda()\n",
    "        self.q_norm = nn.LayerNorm(self.node_shape, elementwise_affine=True).cuda()\n",
    "        self.v_norm = nn.LayerNorm(self.node_shape, elementwise_affine=True).cuda()\n",
    "        \n",
    "        self.linear1 = nn.Linear(self.n_heads * self.node_size, self.node_size).cuda()\n",
    "        self.norm = nn.LayerNorm([self.N,self.node_size], elementwise_affine=False).cuda()\n",
    "        self.linear2 = nn.Linear(self.node_size, self.out_dim).cuda()\n",
    "        \n",
    "    def forward(self,x):\n",
    "        N, Cin, H, W = x.shape\n",
    "        #x = self.pool(torch.relu(self.conv1(x)))\n",
    "        #x = self.pool(torch.relu(self.conv2(x)))\n",
    "        #x = self.pool(torch.relu(self.conv3(x)))\n",
    "        #x = self.pool(torch.relu(self.conv4(x)))\n",
    "        \n",
    "        x = self.pool(torch.relu(self.conv1(x)))\n",
    "        x = self.pool(torch.relu(self.conv2(x)))\n",
    "        x = torch.relu(self.conv3(x))\n",
    "        x = torch.relu(self.conv4(x))\n",
    "        \n",
    "        with torch.no_grad():\n",
    "            self.conv_map = x.cpu().clone()\n",
    "        _,_,cH,cW = x.shape\n",
    "        xcoords = torch.arange(cW).repeat(cH,1).float().cuda() / cW\n",
    "        ycoords = torch.arange(cH).repeat(cW,1).transpose(1,0).float().cuda() / cH\n",
    "        spatial_coords = torch.stack([xcoords,ycoords],dim=0)\n",
    "        spatial_coords = spatial_coords.unsqueeze(dim=0)\n",
    "        spatial_coords = spatial_coords.repeat(N,1,1,1)\n",
    "        x = torch.cat([x,spatial_coords],dim=1)\n",
    "        x = x.permute(0,2,3,1)\n",
    "        x = x.flatten(1,2)\n",
    "        \n",
    "        K = rearrange(self.k_proj(x), \"b n (head d) -> b head n d\", head=self.n_heads)\n",
    "        K = self.k_norm(K)\n",
    "        \n",
    "        Q = rearrange(self.q_proj(x), \"b n (head d) -> b head n d\", head=self.n_heads)\n",
    "        Q = self.q_norm(Q)\n",
    "        \n",
    "        V = rearrange(self.v_proj(x), \"b n (head d) -> b head n d\", head=self.n_heads)\n",
    "        V = self.v_norm(V)\n",
    "        \n",
    "        A = torch.nn.functional.elu(self.q_lin(Q) + self.k_lin(K))\n",
    "        A = self.a_lin(A)\n",
    "        A = torch.nn.functional.softmax(A,dim=3)\n",
    "        with torch.no_grad():\n",
    "            self.att_map = A.cpu().clone()\n",
    "        E = torch.einsum('bhfc,bhcd->bhfd',A,V)\n",
    "        \n",
    "        E = rearrange(E, 'b head n d -> b n (head d)')\n",
    "        \n",
    "        E = self.linear1(E)\n",
    "        E = torch.relu(E)\n",
    "        \n",
    "        E = E.max(dim=1)[0]\n",
    "        y = self.linear2(E)\n",
    "        y = torch.nn.functional.elu(y)\n",
    "        return y\n",
    "            \n",
    "                      \n",
    "        \n",
    "        \n",
    "        "
   ]
  },
  {
   "cell_type": "code",
   "execution_count": 10,
   "metadata": {},
   "outputs": [],
   "source": [
    "import gym\n",
    "\n"
   ]
  },
  {
   "cell_type": "code",
   "execution_count": 13,
   "metadata": {},
   "outputs": [],
   "source": [
    "from skimage.transform import resize\n",
    "\n",
    "def ress(env, input_size=(100,80),to_gray=False):\n",
    "    return resize(env, input_size, anti_aliasing=True).max(axis=2)"
   ]
  },
  {
   "cell_type": "code",
   "execution_count": 19,
   "metadata": {},
   "outputs": [
    {
     "data": {
      "text/plain": [
       "10000"
      ]
     },
     "execution_count": 19,
     "metadata": {},
     "output_type": "execute_result"
    }
   ],
   "source": [
    "x = env.reset()\n",
    "xy = ress(x)\n",
    "xy.size"
   ]
  },
  {
   "cell_type": "code",
   "execution_count": 14,
   "metadata": {},
   "outputs": [
    {
     "data": {
      "text/plain": [
       "<matplotlib.image.AxesImage at 0x274d71bfbc8>"
      ]
     },
     "execution_count": 14,
     "metadata": {},
     "output_type": "execute_result"
    },
    {
     "data": {
      "image/png": "[encoded data removed]",
      "text/plain": [
       "<Figure size 432x288 with 1 Axes>"
      ]
     },
     "metadata": {
      "needs_background": "light"
     },
     "output_type": "display_data"
    }
   ],
   "source": [
    "plt.imshow(ress(env.render(\"rgb_array\")))"
   ]
  },
  {
   "cell_type": "markdown",
   "metadata": {},
   "source": [
    "def prepare_state(x, new_size=(100,100)):\n",
    "    \n",
    "    x = resize(x, new_size, anti_aliasing=True).max(axis=2)\n",
    "    ns = torch.from_numpy(x).float().permute(2,0,1).unsqueeze(dim=0)\n",
    "    maxv = ns.flatten().max()\n",
    "    ns = ns / maxv\n",
    "    return ns\n",
    "\n",
    "    "
   ]
  },
  {
   "cell_type": "code",
   "execution_count": 5,
   "metadata": {},
   "outputs": [],
   "source": [
    "torch.cuda.empty_cache()"
   ]
  },
  {
   "cell_type": "code",
   "execution_count": 15,
   "metadata": {},
   "outputs": [],
   "source": [
    "def prepare_state(x, new_size=(100,80),N=3):\n",
    "    \n",
    "    x = resize(x, new_size, anti_aliasing=True).max(axis=2)\n",
    "    ns = torch.from_numpy(x).float()\n",
    "    maxv = ns.repeat((N,1,1))\n",
    "    return maxv.unsqueeze(dim=0)\n",
    "\n",
    "    "
   ]
  },
  {
   "cell_type": "code",
   "execution_count": 16,
   "metadata": {},
   "outputs": [
    {
     "data": {
      "text/plain": [
       "torch.Size([1, 3, 100, 80])"
      ]
     },
     "execution_count": 16,
     "metadata": {},
     "output_type": "execute_result"
    }
   ],
   "source": [
    "state = prepare_state(env.reset())\n",
    "state.size()"
   ]
  },
  {
   "cell_type": "code",
   "execution_count": 11,
   "metadata": {},
   "outputs": [],
   "source": [
    "_,_,cH,cW = state.shape\n",
    "xcoords = torch.arange(cW).repeat(cH,1).float().cuda() / cW"
   ]
  },
  {
   "cell_type": "code",
   "execution_count": 12,
   "metadata": {},
   "outputs": [
    {
     "data": {
      "text/plain": [
       "tensor([[0.0000, 0.0152, 0.0303,  ..., 0.9545, 0.9697, 0.9848],\n",
       "        [0.0000, 0.0152, 0.0303,  ..., 0.9545, 0.9697, 0.9848],\n",
       "        [0.0000, 0.0152, 0.0303,  ..., 0.9545, 0.9697, 0.9848],\n",
       "        ...,\n",
       "        [0.0000, 0.0152, 0.0303,  ..., 0.9545, 0.9697, 0.9848],\n",
       "        [0.0000, 0.0152, 0.0303,  ..., 0.9545, 0.9697, 0.9848],\n",
       "        [0.0000, 0.0152, 0.0303,  ..., 0.9545, 0.9697, 0.9848]],\n",
       "       device='cuda:0')"
      ]
     },
     "execution_count": 12,
     "metadata": {},
     "output_type": "execute_result"
    }
   ],
   "source": [
    "xcoords"
   ]
  },
  {
   "cell_type": "code",
   "execution_count": 17,
   "metadata": {},
   "outputs": [],
   "source": [
    "def get_minibatch(replay,size):\n",
    "    \n",
    "    batch_ids = np.random.randint(0, len(replay),size)\n",
    "    batch = [replay[x] for x in batch_ids]\n",
    "    state_batch = torch.cat([s for (s,a,r,s2,d) in batch],)\n",
    "    action_batch = torch.Tensor([a for (s,a,r,s2,d) in batch]).long()\n",
    "    reward_batch = torch.Tensor([r for (s,a,r,s2,d) in batch])\n",
    "    state2_batch = torch.cat([s2 for (s,a,r,s2,d) in batch],dim=0)\n",
    "    done_batch = torch.Tensor([d for (s,a,r,s2,d) in batch])\n",
    "    \n",
    "    return state_batch, action_batch, reward_batch, state2_batch, done_batch\n",
    "\n",
    "def get_qtarget(qvals,r,df,done):\n",
    "    \n",
    "    maxqvals = torch.max(qvals,dim=1)[0]\n",
    "    targets = r + (1-done) * df * maxqvals\n",
    "    return targets\n",
    "\n",
    "def get_qtarget_ddqn(qvals, r, df, done):\n",
    "    \n",
    "    targets = r + (1-done) * df * qvals\n",
    "    return targets\n",
    "\n",
    "def lossfn(pred,targets,actions):\n",
    "    loss = torch.mean(torch.pow(\\\n",
    "                               targets.detach()-\\\n",
    "                               pred.gather(dim=1,index=actions.unsqueeze(dim=1)).squeeze(),2),dim=0)\n",
    "    \n",
    "    return loss\n",
    "\n",
    "def update_replay_old(replay,exp,replay_size):\n",
    "    r = exp[2]\n",
    "    N = 1\n",
    "    if r > 0:\n",
    "        N = 50\n",
    "    for i in range(N):\n",
    "        if len(replay) < replay_size:\n",
    "            replay.append(exp)\n",
    "        else:\n",
    "            rid = np.random.randint(0,len(replay))\n",
    "            replay[rid] = exp\n",
    "    return replay\n",
    "  \n",
    "def update_replay(replay,exp,replay_size):\n",
    "  r = exp[2]\n",
    "  N = 1\n",
    "  if r > 0:\n",
    "      N = 50\n",
    "  for i in range(N):\n",
    "      replay.append(exp)\n",
    "  return replay    "
   ]
  },
  {
   "cell_type": "code",
   "execution_count": 18,
   "metadata": {},
   "outputs": [],
   "source": [
    "def softmax(x,tau=1.9):\n",
    "    z = torch.exp(tau*x) / torch.exp(tau*x).sum()\n",
    "    return z\n",
    "\n",
    "def logsoftmax(x,tau=1.9):\n",
    "    z = torch.log(softmax(x,tau=tau))\n",
    "    return z\n"
   ]
  },
  {
   "cell_type": "code",
   "execution_count": 23,
   "metadata": {},
   "outputs": [],
   "source": [
    "action_map = {\n",
    "    0:0,\n",
    "    1:1,\n",
    "    2:2,\n",
    "    3:3,\n",
    "}    \n",
    "    #5:5,\n",
    "    #6:6,\n",
    "    #7:7,\n",
    "    #8:8,\n",
    "    #9:9,\n",
    "    #10:10,\n",
    "    #11:11,\n",
    "    #12:12,\n",
    "    #13:13,\n",
    "    #14:14,\n",
    "    #15:15,\n",
    "    #16:16,\n",
    "    #17:17,\n",
    "    #18:18,   \n"
   ]
  },
  {
   "cell_type": "code",
   "execution_count": 17,
   "metadata": {},
   "outputs": [],
   "source": [
    "env = gym.make(\"Alien-v4\")"
   ]
  },
  {
   "cell_type": "code",
   "execution_count": 21,
   "metadata": {},
   "outputs": [],
   "source": [
    "state = prepare_state(env.reset())\n",
    "GWagent = MultiHeadRelationalModule().cuda() #RelationalModule\n",
    "Tnet = MultiHeadRelationalModule().cuda()\n",
    "maxsteps = 400\n",
    "\n",
    "env.max_steps = maxsteps\n",
    "env.env.max_steps = maxsteps\n"
   ]
  },
  {
   "cell_type": "code",
   "execution_count": 22,
   "metadata": {},
   "outputs": [
    {
     "data": {
      "text/plain": [
       "tensor([[-0.1405, -0.3122,  0.1642,  0.0135]], device='cuda:0',\n",
       "       grad_fn=<EluBackward>)"
      ]
     },
     "execution_count": 22,
     "metadata": {},
     "output_type": "execute_result"
    }
   ],
   "source": [
    "GWagent(state.cuda())"
   ]
  },
  {
   "cell_type": "code",
   "execution_count": 24,
   "metadata": {},
   "outputs": [
    {
     "name": "stdout",
     "output_type": "stream",
     "text": [
      "shit!!!GameLost!!!!\n",
      "shit!!!GameLost!!!!\n",
      "shit!!!GameLost!!!!\n",
      "shit!!!GameLost!!!!\n",
      "shit!!!GameLost!!!!\n",
      "shit!!!GameLost!!!!\n",
      "shit!!!GameLost!!!!\n",
      "shit!!!GameLost!!!!\n",
      "shit!!!GameLost!!!!\n",
      "shit!!!GameLost!!!!\n",
      "shit!!!GameLost!!!!\n",
      "shit!!!GameLost!!!!\n",
      "shit!!!GameLost!!!!\n",
      "shit!!!GameLost!!!!\n",
      "shit!!!GameLost!!!!\n",
      "shit!!!GameLost!!!!\n",
      "shit!!!GameLost!!!!\n",
      "shit!!!GameLost!!!!\n",
      "shit!!!GameLost!!!!\n",
      "shit!!!GameLost!!!!\n",
      "shit!!!GameLost!!!!\n",
      "shit!!!GameLost!!!!\n",
      "shit!!!GameLost!!!!\n",
      "shit!!!GameLost!!!!\n",
      "shit!!!GameLost!!!!\n",
      "shit!!!GameLost!!!!\n",
      "shit!!!GameLost!!!!\n",
      "shit!!!GameLost!!!!\n",
      "shit!!!GameLost!!!!\n",
      "shit!!!GameLost!!!!\n",
      "shit!!!GameLost!!!!\n",
      "shit!!!GameLost!!!!\n",
      "shit!!!GameLost!!!!\n",
      "shit!!!GameLost!!!!\n"
     ]
    },
    {
     "ename": "KeyboardInterrupt",
     "evalue": "",
     "output_type": "error",
     "traceback": [
      "\u001b[1;31m---------------------------------------------------------------------------\u001b[0m",
      "\u001b[1;31mKeyboardInterrupt\u001b[0m                         Traceback (most recent call last)",
      "\u001b[1;32m<ipython-input-24-61e1eef92391>\u001b[0m in \u001b[0;36m<module>\u001b[1;34m\u001b[0m\n\u001b[0;32m     52\u001b[0m         \u001b[0mq_pred\u001b[0m \u001b[1;33m=\u001b[0m \u001b[0mGWagent\u001b[0m\u001b[1;33m(\u001b[0m\u001b[0mstate_batch\u001b[0m\u001b[1;33m.\u001b[0m\u001b[0mcuda\u001b[0m\u001b[1;33m(\u001b[0m\u001b[1;33m)\u001b[0m\u001b[1;33m)\u001b[0m\u001b[1;33m.\u001b[0m\u001b[0mcpu\u001b[0m\u001b[1;33m(\u001b[0m\u001b[1;33m)\u001b[0m\u001b[1;33m\u001b[0m\u001b[1;33m\u001b[0m\u001b[0m\n\u001b[0;32m     53\u001b[0m         \u001b[0mastar\u001b[0m \u001b[1;33m=\u001b[0m \u001b[0mtorch\u001b[0m\u001b[1;33m.\u001b[0m\u001b[0margmax\u001b[0m\u001b[1;33m(\u001b[0m\u001b[0mq_pred\u001b[0m\u001b[1;33m,\u001b[0m\u001b[0mdim\u001b[0m\u001b[1;33m=\u001b[0m\u001b[1;36m1\u001b[0m\u001b[1;33m)\u001b[0m\u001b[1;33m\u001b[0m\u001b[1;33m\u001b[0m\u001b[0m\n\u001b[1;32m---> 54\u001b[1;33m         \u001b[0mqs\u001b[0m \u001b[1;33m=\u001b[0m \u001b[0mTnet\u001b[0m\u001b[1;33m(\u001b[0m\u001b[0mstate2_batch\u001b[0m\u001b[1;33m.\u001b[0m\u001b[0mcuda\u001b[0m\u001b[1;33m(\u001b[0m\u001b[1;33m)\u001b[0m\u001b[1;33m)\u001b[0m\u001b[1;33m.\u001b[0m\u001b[0mcpu\u001b[0m\u001b[1;33m(\u001b[0m\u001b[1;33m)\u001b[0m\u001b[1;33m.\u001b[0m\u001b[0mgather\u001b[0m\u001b[1;33m(\u001b[0m\u001b[0mdim\u001b[0m\u001b[1;33m=\u001b[0m\u001b[1;36m1\u001b[0m\u001b[1;33m,\u001b[0m\u001b[0mindex\u001b[0m\u001b[1;33m=\u001b[0m\u001b[0mastar\u001b[0m\u001b[1;33m.\u001b[0m\u001b[0munsqueeze\u001b[0m\u001b[1;33m(\u001b[0m\u001b[0mdim\u001b[0m\u001b[1;33m=\u001b[0m\u001b[1;36m1\u001b[0m\u001b[1;33m)\u001b[0m\u001b[1;33m)\u001b[0m\u001b[1;33m.\u001b[0m\u001b[0msqueeze\u001b[0m\u001b[1;33m(\u001b[0m\u001b[1;33m)\u001b[0m\u001b[1;33m\u001b[0m\u001b[1;33m\u001b[0m\u001b[0m\n\u001b[0m\u001b[0;32m     55\u001b[0m \u001b[1;33m\u001b[0m\u001b[0m\n\u001b[0;32m     56\u001b[0m         \u001b[0mtargets\u001b[0m \u001b[1;33m=\u001b[0m \u001b[0mget_qtarget_ddqn\u001b[0m\u001b[1;33m(\u001b[0m\u001b[0mqs\u001b[0m\u001b[1;33m.\u001b[0m\u001b[0mdetach\u001b[0m\u001b[1;33m(\u001b[0m\u001b[1;33m)\u001b[0m\u001b[1;33m,\u001b[0m\u001b[0mreward_batch\u001b[0m\u001b[1;33m.\u001b[0m\u001b[0mdetach\u001b[0m\u001b[1;33m(\u001b[0m\u001b[1;33m)\u001b[0m\u001b[1;33m,\u001b[0m\u001b[0mgamma\u001b[0m\u001b[1;33m,\u001b[0m\u001b[0mdone_batch\u001b[0m\u001b[1;33m)\u001b[0m\u001b[1;33m\u001b[0m\u001b[1;33m\u001b[0m\u001b[0m\n",
      "\u001b[1;32m~\\anaconda3\\lib\\site-packages\\torch\\nn\\modules\\module.py\u001b[0m in \u001b[0;36m__call__\u001b[1;34m(self, *input, **kwargs)\u001b[0m\n\u001b[0;32m    548\u001b[0m             \u001b[0mresult\u001b[0m \u001b[1;33m=\u001b[0m \u001b[0mself\u001b[0m\u001b[1;33m.\u001b[0m\u001b[0m_slow_forward\u001b[0m\u001b[1;33m(\u001b[0m\u001b[1;33m*\u001b[0m\u001b[0minput\u001b[0m\u001b[1;33m,\u001b[0m \u001b[1;33m**\u001b[0m\u001b[0mkwargs\u001b[0m\u001b[1;33m)\u001b[0m\u001b[1;33m\u001b[0m\u001b[1;33m\u001b[0m\u001b[0m\n\u001b[0;32m    549\u001b[0m         \u001b[1;32melse\u001b[0m\u001b[1;33m:\u001b[0m\u001b[1;33m\u001b[0m\u001b[1;33m\u001b[0m\u001b[0m\n\u001b[1;32m--> 550\u001b[1;33m             \u001b[0mresult\u001b[0m \u001b[1;33m=\u001b[0m \u001b[0mself\u001b[0m\u001b[1;33m.\u001b[0m\u001b[0mforward\u001b[0m\u001b[1;33m(\u001b[0m\u001b[1;33m*\u001b[0m\u001b[0minput\u001b[0m\u001b[1;33m,\u001b[0m \u001b[1;33m**\u001b[0m\u001b[0mkwargs\u001b[0m\u001b[1;33m)\u001b[0m\u001b[1;33m\u001b[0m\u001b[1;33m\u001b[0m\u001b[0m\n\u001b[0m\u001b[0;32m    551\u001b[0m         \u001b[1;32mfor\u001b[0m \u001b[0mhook\u001b[0m \u001b[1;32min\u001b[0m \u001b[0mself\u001b[0m\u001b[1;33m.\u001b[0m\u001b[0m_forward_hooks\u001b[0m\u001b[1;33m.\u001b[0m\u001b[0mvalues\u001b[0m\u001b[1;33m(\u001b[0m\u001b[1;33m)\u001b[0m\u001b[1;33m:\u001b[0m\u001b[1;33m\u001b[0m\u001b[1;33m\u001b[0m\u001b[0m\n\u001b[0;32m    552\u001b[0m             \u001b[0mhook_result\u001b[0m \u001b[1;33m=\u001b[0m \u001b[0mhook\u001b[0m\u001b[1;33m(\u001b[0m\u001b[0mself\u001b[0m\u001b[1;33m,\u001b[0m \u001b[0minput\u001b[0m\u001b[1;33m,\u001b[0m \u001b[0mresult\u001b[0m\u001b[1;33m)\u001b[0m\u001b[1;33m\u001b[0m\u001b[1;33m\u001b[0m\u001b[0m\n",
      "\u001b[1;32m<ipython-input-3-ab1e2813ea74>\u001b[0m in \u001b[0;36mforward\u001b[1;34m(self, x)\u001b[0m\n\u001b[0;32m     56\u001b[0m         \u001b[0m_\u001b[0m\u001b[1;33m,\u001b[0m\u001b[0m_\u001b[0m\u001b[1;33m,\u001b[0m\u001b[0mcH\u001b[0m\u001b[1;33m,\u001b[0m\u001b[0mcW\u001b[0m \u001b[1;33m=\u001b[0m \u001b[0mx\u001b[0m\u001b[1;33m.\u001b[0m\u001b[0mshape\u001b[0m\u001b[1;33m\u001b[0m\u001b[1;33m\u001b[0m\u001b[0m\n\u001b[0;32m     57\u001b[0m         \u001b[0mxcoords\u001b[0m \u001b[1;33m=\u001b[0m \u001b[0mtorch\u001b[0m\u001b[1;33m.\u001b[0m\u001b[0marange\u001b[0m\u001b[1;33m(\u001b[0m\u001b[0mcW\u001b[0m\u001b[1;33m)\u001b[0m\u001b[1;33m.\u001b[0m\u001b[0mrepeat\u001b[0m\u001b[1;33m(\u001b[0m\u001b[0mcH\u001b[0m\u001b[1;33m,\u001b[0m\u001b[1;36m1\u001b[0m\u001b[1;33m)\u001b[0m\u001b[1;33m.\u001b[0m\u001b[0mfloat\u001b[0m\u001b[1;33m(\u001b[0m\u001b[1;33m)\u001b[0m\u001b[1;33m.\u001b[0m\u001b[0mcuda\u001b[0m\u001b[1;33m(\u001b[0m\u001b[1;33m)\u001b[0m \u001b[1;33m/\u001b[0m \u001b[0mcW\u001b[0m\u001b[1;33m\u001b[0m\u001b[1;33m\u001b[0m\u001b[0m\n\u001b[1;32m---> 58\u001b[1;33m         \u001b[0mycoords\u001b[0m \u001b[1;33m=\u001b[0m \u001b[0mtorch\u001b[0m\u001b[1;33m.\u001b[0m\u001b[0marange\u001b[0m\u001b[1;33m(\u001b[0m\u001b[0mcH\u001b[0m\u001b[1;33m)\u001b[0m\u001b[1;33m.\u001b[0m\u001b[0mrepeat\u001b[0m\u001b[1;33m(\u001b[0m\u001b[0mcW\u001b[0m\u001b[1;33m,\u001b[0m\u001b[1;36m1\u001b[0m\u001b[1;33m)\u001b[0m\u001b[1;33m.\u001b[0m\u001b[0mtranspose\u001b[0m\u001b[1;33m(\u001b[0m\u001b[1;36m1\u001b[0m\u001b[1;33m,\u001b[0m\u001b[1;36m0\u001b[0m\u001b[1;33m)\u001b[0m\u001b[1;33m.\u001b[0m\u001b[0mfloat\u001b[0m\u001b[1;33m(\u001b[0m\u001b[1;33m)\u001b[0m\u001b[1;33m.\u001b[0m\u001b[0mcuda\u001b[0m\u001b[1;33m(\u001b[0m\u001b[1;33m)\u001b[0m \u001b[1;33m/\u001b[0m \u001b[0mcH\u001b[0m\u001b[1;33m\u001b[0m\u001b[1;33m\u001b[0m\u001b[0m\n\u001b[0m\u001b[0;32m     59\u001b[0m         \u001b[0mspatial_coords\u001b[0m \u001b[1;33m=\u001b[0m \u001b[0mtorch\u001b[0m\u001b[1;33m.\u001b[0m\u001b[0mstack\u001b[0m\u001b[1;33m(\u001b[0m\u001b[1;33m[\u001b[0m\u001b[0mxcoords\u001b[0m\u001b[1;33m,\u001b[0m\u001b[0mycoords\u001b[0m\u001b[1;33m]\u001b[0m\u001b[1;33m,\u001b[0m\u001b[0mdim\u001b[0m\u001b[1;33m=\u001b[0m\u001b[1;36m0\u001b[0m\u001b[1;33m)\u001b[0m\u001b[1;33m\u001b[0m\u001b[1;33m\u001b[0m\u001b[0m\n\u001b[0;32m     60\u001b[0m         \u001b[0mspatial_coords\u001b[0m \u001b[1;33m=\u001b[0m \u001b[0mspatial_coords\u001b[0m\u001b[1;33m.\u001b[0m\u001b[0munsqueeze\u001b[0m\u001b[1;33m(\u001b[0m\u001b[0mdim\u001b[0m\u001b[1;33m=\u001b[0m\u001b[1;36m0\u001b[0m\u001b[1;33m)\u001b[0m\u001b[1;33m\u001b[0m\u001b[1;33m\u001b[0m\u001b[0m\n",
      "\u001b[1;31mKeyboardInterrupt\u001b[0m: "
     ]
    }
   ],
   "source": [
    "renders = deque(maxlen=1500)\n",
    "#writer = SummaryWriter(log_dir='logs/exp')\n",
    "epochs = 50000\n",
    "replay_size = 9000\n",
    "batch_size = 50\n",
    "lr = 0.0005\n",
    "gamma = 0.99\n",
    "replay = deque(maxlen=replay_size)\n",
    "opt = torch.optim.Adam(params=GWagent.parameters(),lr=lr)\n",
    "losses = []\n",
    "avg_rewards = []\n",
    "state = prepare_state(env.reset())\n",
    "renders.append(env.render(mode='rgb_array'))\n",
    "eps = 0.3\n",
    "update_freq = 100\n",
    "\n",
    "ep_len = 0\n",
    "for i in range(epochs):\n",
    "    \n",
    "    ep_len += 1\n",
    "    pred = GWagent(state.cuda()).cpu()\n",
    "    action = int(torch.argmax(pred).detach().numpy())\n",
    "    if np.random.rand() < eps:\n",
    "        action = int(torch.randint(0,4,size=(1,)).squeeze())\n",
    "        \n",
    "    action_d = action_map[action]\n",
    "    state2, reward, done, info = env.step(action)\n",
    "    reward = -0.01 if reward == 0 else reward\n",
    "    renders.append(env.render(mode='rgb_array'))\n",
    "    state2 = prepare_state(state2)\n",
    "    exp = (state,action,reward,state2,done)\n",
    "    \n",
    "    replay = update_replay(replay,exp,replay_size)\n",
    "    \n",
    "    if done:\n",
    "        state = prepare_state(env.reset())\n",
    "        avg_rewards.append(ep_len)\n",
    "        ep_len = 0\n",
    "        if reward > 0:\n",
    "            print(\"Game won!!!!!hellyeah!!!\")\n",
    "        else:\n",
    "            print(\"shit!!!GameLost!!!!\")\n",
    "    \n",
    "    else:\n",
    "        state = state2\n",
    "    if len(replay) > batch_size:\n",
    "        \n",
    "        opt.zero_grad()\n",
    "        \n",
    "        state_batch, action_batch, reward_batch, state2_batch, done_batch = get_minibatch(replay,batch_size)\n",
    "        \n",
    "        q_pred = GWagent(state_batch.cuda()).cpu()\n",
    "        astar = torch.argmax(q_pred,dim=1)\n",
    "        qs = Tnet(state2_batch.cuda()).cpu().gather(dim=1,index=astar.unsqueeze(dim=1)).squeeze()\n",
    "        \n",
    "        targets = get_qtarget_ddqn(qs.detach(),reward_batch.detach(),gamma,done_batch)\n",
    "        \n",
    "        loss = lossfn(q_pred,targets.detach(),action_batch)\n",
    "        loss.backward()\n",
    "        torch.nn.utils.clip_grad_norm_(GWagent.parameters(),max_norm=1.0)\n",
    "        losses.append(loss.detach().numpy())\n",
    "        #writer.add_scalar('Loss', loss.detach().numpy(),i)\n",
    "        opt.step()\n",
    "        \n",
    "    if i % update_freq == 0:\n",
    "        Tnet.load_state_dict(GWagent.state_dict())\n",
    "        \n",
    "losses = np.array(losses)\n",
    "avg_rewards = np.array(avg_rewards)\n",
    "renders = np.stack(renders)\n",
    "    "
   ]
  },
  {
   "cell_type": "code",
   "execution_count": 25,
   "metadata": {},
   "outputs": [
    {
     "name": "stderr",
     "output_type": "stream",
     "text": [
      "IMAGEIO FFMPEG_WRITER WARNING: input image is not divisible by macro_block_size=16, resizing from (160, 210) to (160, 224) to ensure video compatibility with most codecs and players. To prevent resizing, make your input image divisible by the macro_block_size or set the macro_block_size to 1 (risking incompatibility).\n"
     ]
    },
    {
     "data": {
      "text/html": [
       "<video src=\"test2.mp4\" controls  >\n",
       "      Your browser does not support the <code>video</code> element.\n",
       "    </video>"
      ],
      "text/plain": [
       "<IPython.core.display.Video object>"
      ]
     },
     "execution_count": 25,
     "metadata": {},
     "output_type": "execute_result"
    }
   ],
   "source": [
    "import imageio\n",
    "from IPython.display import Video\n",
    "imageio.mimwrite('test2.mp4', renders, fps=15)\n",
    "Video('test2.mp4')"
   ]
  },
  {
   "cell_type": "code",
   "execution_count": 65,
   "metadata": {},
   "outputs": [
    {
     "data": {
      "text/plain": [
       "<matplotlib.image.AxesImage at 0x274fcf53888>"
      ]
     },
     "execution_count": 65,
     "metadata": {},
     "output_type": "execute_result"
    },
    {
     "data": {
      "image/png": "[encoded data removed]",
      "text/plain": [
       "<Figure size 432x288 with 1 Axes>"
      ]
     },
     "metadata": {
      "needs_background": "light"
     },
     "output_type": "display_data"
    }
   ],
   "source": [
    "state_ = env.reset()\n",
    "state = prepare_state(state_)\n",
    "GWagent(state.cuda()).cpu()\n",
    "plt.imshow(env.render('rgb_array'))\n",
    "plt.imshow(state[0].permute(1,2,0).detach().numpy())\n",
    "head, node = 1, 36\n",
    "plt.imshow(GWagent.att_map[0][head][node].view(16,11))"
   ]
  },
  {
   "cell_type": "code",
   "execution_count": null,
   "metadata": {},
   "outputs": [],
   "source": []
  }
 ],
 "metadata": {
  "kernelspec": {
   "display_name": "Python 3",
   "language": "python",
   "name": "python3"
  },
  "language_info": {
   "codemirror_mode": {
    "name": "ipython",
    "version": 3
   },
   "file_extension": ".py",
   "mimetype": "text/x-python",
   "name": "python",
   "nbconvert_exporter": "python",
   "pygments_lexer": "ipython3",
   "version": "3.7.6"
  }
 },
 "nbformat": 4,
 "nbformat_minor": 4
}
